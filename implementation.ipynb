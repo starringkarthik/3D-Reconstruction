{
  "cells": [
    {
      "cell_type": "code",
      "execution_count": 1,
      "metadata": {
        "colab": {
          "base_uri": "https://localhost:8080/"
        },
        "id": "1K6AFXIYddoe",
        "outputId": "2c0d0ea5-4eda-4c24-f550-86dd07454dd2"
      },
      "outputs": [
        {
          "output_type": "stream",
          "name": "stdout",
          "text": [
            "Cloning into '3D-Reconstruction'...\n",
            "remote: Enumerating objects: 170, done.\u001b[K\n",
            "remote: Counting objects: 100% (57/57), done.\u001b[K\n",
            "remote: Compressing objects: 100% (44/44), done.\u001b[K\n",
            "remote: Total 170 (delta 27), reused 31 (delta 12), pack-reused 113\u001b[K\n",
            "Receiving objects: 100% (170/170), 90.41 MiB | 20.73 MiB/s, done.\n",
            "Resolving deltas: 100% (39/39), done.\n",
            "Updating files: 100% (80/80), done.\n"
          ]
        }
      ],
      "source": [
        "!git clone https://github.com/starringkarthik/3D-Reconstruction.git"
      ]
    },
    {
      "cell_type": "code",
      "source": [
        "import os\n",
        "os.chdir(\"/content/3D-Reconstruction/pifuhd/\")\n",
        "!sh ./scripts/download_trained_model.sh"
      ],
      "metadata": {
        "id": "GMh6FX_KCYNr",
        "outputId": "441269a3-36c9-4488-bb9c-a7c6fc67d5ee",
        "colab": {
          "base_uri": "https://localhost:8080/"
        }
      },
      "execution_count": 2,
      "outputs": [
        {
          "output_type": "stream",
          "name": "stdout",
          "text": [
            "+ mkdir -p checkpoints\n",
            "+ cd checkpoints\n",
            "+ wget https://dl.fbaipublicfiles.com/pifuhd/checkpoints/pifuhd.pt pifuhd.pt\n",
            "--2024-04-26 12:19:22--  https://dl.fbaipublicfiles.com/pifuhd/checkpoints/pifuhd.pt\n",
            "Resolving dl.fbaipublicfiles.com (dl.fbaipublicfiles.com)... 13.227.219.33, 13.227.219.70, 13.227.219.59, ...\n",
            "Connecting to dl.fbaipublicfiles.com (dl.fbaipublicfiles.com)|13.227.219.33|:443... connected.\n",
            "HTTP request sent, awaiting response... 200 OK\n",
            "Length: 1548375177 (1.4G) [application/octet-stream]\n",
            "Saving to: ‘pifuhd.pt’\n",
            "\n",
            "pifuhd.pt           100%[===================>]   1.44G  94.6MB/s    in 13s     \n",
            "\n",
            "2024-04-26 12:19:35 (118 MB/s) - ‘pifuhd.pt’ saved [1548375177/1548375177]\n",
            "\n",
            "--2024-04-26 12:19:35--  http://pifuhd.pt/\n",
            "Resolving pifuhd.pt (pifuhd.pt)... failed: Name or service not known.\n",
            "wget: unable to resolve host address ‘pifuhd.pt’\n",
            "FINISHED --2024-04-26 12:19:35--\n",
            "Total wall clock time: 13s\n",
            "Downloaded: 1 files, 1.4G in 13s (118 MB/s)\n"
          ]
        }
      ]
    },
    {
      "cell_type": "code",
      "execution_count": 3,
      "metadata": {
        "colab": {
          "base_uri": "https://localhost:8080/"
        },
        "id": "RIUoME_wkAMB",
        "outputId": "daa22809-5fb9-4cb3-fdba-10a3717fe5ca"
      },
      "outputs": [
        {
          "output_type": "stream",
          "name": "stdout",
          "text": [
            "\u001b[2K     \u001b[90m━━━━━━━━━━━━━━━━━━━━━━━━━━━━━━━━━━━━━━━━\u001b[0m \u001b[32m8.1/8.1 MB\u001b[0m \u001b[31m25.5 MB/s\u001b[0m eta \u001b[36m0:00:00\u001b[0m\n",
            "\u001b[2K     \u001b[90m━━━━━━━━━━━━━━━━━━━━━━━━━━━━━━━━━━━━━━━━\u001b[0m \u001b[32m207.3/207.3 kB\u001b[0m \u001b[31m16.2 MB/s\u001b[0m eta \u001b[36m0:00:00\u001b[0m\n",
            "\u001b[2K     \u001b[90m━━━━━━━━━━━━━━━━━━━━━━━━━━━━━━━━━━━━━━━━\u001b[0m \u001b[32m5.8/5.8 MB\u001b[0m \u001b[31m34.9 MB/s\u001b[0m eta \u001b[36m0:00:00\u001b[0m\n",
            "\u001b[2K     \u001b[90m━━━━━━━━━━━━━━━━━━━━━━━━━━━━━━━━━━━━━━━━\u001b[0m \u001b[32m83.0/83.0 kB\u001b[0m \u001b[31m5.9 MB/s\u001b[0m eta \u001b[36m0:00:00\u001b[0m\n",
            "\u001b[2K     \u001b[90m━━━━━━━━━━━━━━━━━━━━━━━━━━━━━━━━━━━━━━━━\u001b[0m \u001b[32m62.7/62.7 kB\u001b[0m \u001b[31m6.0 MB/s\u001b[0m eta \u001b[36m0:00:00\u001b[0m\n",
            "\u001b[?25hCollecting obj2html\n",
            "  Downloading obj2html-0.14.tar.gz (3.7 kB)\n",
            "  Preparing metadata (setup.py) ... \u001b[?25l\u001b[?25hdone\n",
            "Building wheels for collected packages: obj2html\n",
            "  Building wheel for obj2html (setup.py) ... \u001b[?25l\u001b[?25hdone\n",
            "  Created wheel for obj2html: filename=obj2html-0.14-py3-none-any.whl size=5095 sha256=0372d8df279f2a0e5595394f3a8be4e3320774e6479ee210e52e285d4601c0d5\n",
            "  Stored in directory: /root/.cache/pip/wheels/b3/39/0f/aa3787183fb84c7c6d71ef487e26d6101c5616e025c4c05f4b\n",
            "Successfully built obj2html\n",
            "Installing collected packages: obj2html\n",
            "Successfully installed obj2html-0.14\n"
          ]
        }
      ],
      "source": [
        "import os\n",
        "os.chdir(\"/content/3D-Reconstruction\")\n",
        "!pip install -q streamlit\n",
        "!pip install obj2html\n",
        "!chmod +x cloudflared-linux-amd64"
      ]
    },
    {
      "cell_type": "code",
      "source": [
        "!nohup /content/3D-Reconstruction/cloudflared-linux-amd64 tunnel --url http://localhost:8501 &\n",
        "!grep -o 'https://.*\\.trycloudflare.com' nohup.out | head -n 1 | xargs -I {} echo \"Your tunnel url {}\"\n",
        "!streamlit run /content/3D-Reconstruction/app.py &>/content/logs.txt &"
      ],
      "metadata": {
        "id": "Kq1y_vkBSOAN",
        "colab": {
          "base_uri": "https://localhost:8080/"
        },
        "outputId": "3e30fa52-635b-450a-c037-1c916dcdee39"
      },
      "execution_count": 4,
      "outputs": [
        {
          "output_type": "stream",
          "name": "stdout",
          "text": [
            "nohup: appending output to 'nohup.out'\n"
          ]
        }
      ]
    },
    {
      "cell_type": "code",
      "execution_count": 5,
      "metadata": {
        "id": "txLQjWy1s45J",
        "colab": {
          "base_uri": "https://localhost:8080/"
        },
        "outputId": "08f95bdf-84d0-4551-d99b-8aaf7fefaf2e"
      },
      "outputs": [
        {
          "output_type": "stream",
          "name": "stdout",
          "text": [
            "human.jpg\n",
            "Resuming from  ./checkpoints/pifuhd.pt\n",
            "Warning: opt is overwritten.\n",
            "test data size:  1\n",
            "initialize network with normal\n",
            "initialize network with normal\n",
            "generate mesh (test) ...\n",
            "  0% 0/1 [00:00<?, ?it/s]./results/pifuhd_final/recon/result_human_256.obj\n",
            "100% 1/1 [00:07<00:00,  7.44s/it]\n"
          ]
        }
      ],
      "source": [
        "directory_path = '/content/3D-Reconstruction/pifuhd/sample_images/'\n",
        "filename = None\n",
        "updated_time = 0\n",
        "for entry in os.scandir(directory_path):\n",
        "  if entry.is_file():\n",
        "    mod_time = entry.stat().st_mtime_ns\n",
        "    if mod_time > updated_time:\n",
        "      filename = entry.name\n",
        "#try:\n",
        "image_path = '/content/3D-Reconstruction/pifuhd/sample_images/%s' % filename\n",
        "#except:\n",
        "#  image_path = '/content/pifuhd/sample_images/test.png'\n",
        "image_dir = os.path.dirname(image_path)\n",
        "file_name = os.path.splitext(os.path.basename(image_path))[0]\n",
        "\n",
        "obj_path = '/content/3D-Reconstruction/pifuhd/results/pifuhd_final/recon/result_%s_256.obj' % file_name\n",
        "out_img_path = '/content/3D-Reconstruction/pifuhd/results/pifuhd_final/recon/result_%s_256.png' % file_name\n",
        "video_path = '/content/3D-Reconstruction/pifuhd/results/pifuhd_final/recon/result_%s_256.mp4' % file_name\n",
        "video_display_path = '/content/3D-Reconstruction/pifuhd/results/pifuhd_final/result_%s_256_display.mp4' % file_name\n",
        "print(filename)\n",
        "os.chdir(\"/content/3D-Reconstruction/lightweight-human-pose-estimation.pytorch/\")\n",
        "\n",
        "import torch\n",
        "import cv2\n",
        "import numpy as np\n",
        "from models.with_mobilenet import PoseEstimationWithMobileNet\n",
        "from modules.keypoints import extract_keypoints, group_keypoints\n",
        "from modules.load_state import load_state\n",
        "from modules.pose import Pose, track_poses\n",
        "import demo\n",
        "\n",
        "def get_rect(net, images, height_size):\n",
        "    net = net.eval()\n",
        "\n",
        "    stride = 8\n",
        "    upsample_ratio = 4\n",
        "    num_keypoints = Pose.num_kpts\n",
        "    previous_poses = []\n",
        "    delay = 33\n",
        "    for image in images:\n",
        "        rect_path = image.replace('.%s' % (image.split('.')[-1]), '_rect.txt')\n",
        "        img = cv2.imread(image, cv2.IMREAD_COLOR)\n",
        "        orig_img = img.copy()\n",
        "        orig_img = img.copy()\n",
        "        heatmaps, pafs, scale, pad = demo.infer_fast(net, img, height_size, stride, upsample_ratio, cpu=False)\n",
        "\n",
        "        total_keypoints_num = 0\n",
        "        all_keypoints_by_type = []\n",
        "        for kpt_idx in range(num_keypoints):\n",
        "            total_keypoints_num += extract_keypoints(heatmaps[:, :, kpt_idx], all_keypoints_by_type, total_keypoints_num)\n",
        "\n",
        "        pose_entries, all_keypoints = group_keypoints(all_keypoints_by_type, pafs)\n",
        "        for kpt_id in range(all_keypoints.shape[0]):\n",
        "            all_keypoints[kpt_id, 0] = (all_keypoints[kpt_id, 0] * stride / upsample_ratio - pad[1]) / scale\n",
        "            all_keypoints[kpt_id, 1] = (all_keypoints[kpt_id, 1] * stride / upsample_ratio - pad[0]) / scale\n",
        "        current_poses = []\n",
        "\n",
        "        rects = []\n",
        "        for n in range(len(pose_entries)):\n",
        "            if len(pose_entries[n]) == 0:\n",
        "                continue\n",
        "            pose_keypoints = np.ones((num_keypoints, 2), dtype=np.int32) * -1\n",
        "            valid_keypoints = []\n",
        "            for kpt_id in range(num_keypoints):\n",
        "                if pose_entries[n][kpt_id] != -1.0:\n",
        "                    pose_keypoints[kpt_id, 0] = int(all_keypoints[int(pose_entries[n][kpt_id]), 0])\n",
        "                    pose_keypoints[kpt_id, 1] = int(all_keypoints[int(pose_entries[n][kpt_id]), 1])\n",
        "                    valid_keypoints.append([pose_keypoints[kpt_id, 0], pose_keypoints[kpt_id, 1]])\n",
        "            valid_keypoints = np.array(valid_keypoints)\n",
        "\n",
        "            if pose_entries[n][10] != -1.0 or pose_entries[n][13] != -1.0:\n",
        "              pmin = valid_keypoints.min(0)\n",
        "              pmax = valid_keypoints.max(0)\n",
        "\n",
        "              center = (0.5 * (pmax[:2] + pmin[:2])).astype(int)\n",
        "              radius = int(0.65 * max(pmax[0]-pmin[0], pmax[1]-pmin[1]))\n",
        "            elif pose_entries[n][10] == -1.0 and pose_entries[n][13] == -1.0 and pose_entries[n][8] != -1.0 and pose_entries[n][11] != -1.0:\n",
        "\n",
        "              center = (0.5 * (pose_keypoints[8] + pose_keypoints[11])).astype(int)\n",
        "              radius = int(1.45*np.sqrt(((center[None,:] - valid_keypoints)**2).sum(1)).max(0))\n",
        "              center[1] += int(0.05*radius)\n",
        "            else:\n",
        "              center = np.array([img.shape[1]//2,img.shape[0]//2])\n",
        "              radius = max(img.shape[1]//2,img.shape[0]//2)\n",
        "\n",
        "            x1 = center[0] - radius\n",
        "            y1 = center[1] - radius\n",
        "\n",
        "            rects.append([x1, y1, 2*radius, 2*radius])\n",
        "\n",
        "        np.savetxt(rect_path, np.array(rects), fmt='%d')\n",
        "net = PoseEstimationWithMobileNet()\n",
        "checkpoint = torch.load('checkpoint_iter_370000.pth', map_location='cpu')\n",
        "load_state(net, checkpoint)\n",
        "\n",
        "get_rect(net.cuda(), [image_path], 512)\n",
        "os.chdir(\"/content/3D-Reconstruction/pifuhd/\")\n",
        "!python -m apps.simple_test -r 256 --use_rect -i $image_dir\n",
        "os.chdir(\"/content/3D-Reconstruction\")\n"
      ]
    },
    {
      "cell_type": "code",
      "source": [
        "%%writefile app.py\n",
        "import os\n",
        "from obj2html import obj2html\n",
        "from IPython.display import display, HTML\n",
        "import streamlit as st\n",
        "\n",
        "os.chdir('/content/3D-Reconstruction/pifuhd/results/pifuhd_final/recon')\n",
        "\n",
        "st.title(\"3D Model\")\n",
        "\n",
        "obj_files = [f for f in os.listdir() if f.endswith(\".obj\")]\n",
        "obj_files.sort(key=lambda x: os.path.getmtime(x), reverse=True)\n",
        "\n",
        "if obj_files:\n",
        "    most_recent_obj = obj_files[0]\n",
        "    obj2html(most_recent_obj, 'index.html')\n",
        "\n",
        "    st.write(\"3D Reconstructed Model:\")\n",
        "    st.components.v1.html(open('index.html').read(), width=320, height=200)\n",
        "\n",
        "    st.markdown(\"Download Object File:\")\n",
        "    with open(most_recent_obj, 'rb') as f:\n",
        "        st.download_button('Download model.obj', f, key=most_recent_obj, file_name=most_recent_obj)\n",
        "\n",
        "    st.link_button(\"Visualize using Online 3D Viewer\", \"https://3dviewer.net/\")\n",
        "\n",
        "else:\n",
        "    st.write(\"No .obj files found in the directory.\")"
      ],
      "metadata": {
        "colab": {
          "base_uri": "https://localhost:8080/"
        },
        "id": "WAcgV4uMT_Mw",
        "outputId": "70509c12-483c-4dd8-e3a4-303a4c959cf0"
      },
      "execution_count": 6,
      "outputs": [
        {
          "output_type": "stream",
          "name": "stdout",
          "text": [
            "Overwriting app.py\n"
          ]
        }
      ]
    },
    {
      "cell_type": "markdown",
      "metadata": {
        "id": "04sp7pieaVsa"
      },
      "source": [
        "# backup"
      ]
    },
    {
      "cell_type": "code",
      "execution_count": null,
      "metadata": {
        "id": "82hSnWTZW5uV"
      },
      "outputs": [],
      "source": [
        "!npm install localtunnel"
      ]
    },
    {
      "cell_type": "code",
      "execution_count": null,
      "metadata": {
        "id": "09hR9lWSGbc4"
      },
      "outputs": [],
      "source": [
        "import urllib\n",
        "print(\"Password/Enpoint IP for localtunnel is:\",urllib.request.urlopen('https://ipv4.icanhazip.com').read().decode('utf8').strip(\"\\n\"))\n",
        "!streamlit run /content/3D-Reconstruction/app.py &>/content/logs.txt &\n",
        "!npx localtunnel --port 8501"
      ]
    }
  ],
  "metadata": {
    "accelerator": "GPU",
    "colab": {
      "provenance": []
    },
    "kernelspec": {
      "display_name": "Python 3",
      "name": "python3"
    },
    "language_info": {
      "name": "python"
    }
  },
  "nbformat": 4,
  "nbformat_minor": 0
}